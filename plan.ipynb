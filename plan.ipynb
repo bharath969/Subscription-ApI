{
 "cells": [
  {
   "cell_type": "markdown",
   "metadata": {},
   "source": [
    "## <h2 style=\"color:red;\"><strong>DNS(Domain Name Service)</strong> <h2>"
   ]
  },
  {
   "cell_type": "markdown",
   "metadata": {},
   "source": [
    "Its the internet phonebook.\n",
    "- Translates the web address to ip address\n"
   ]
  },
  {
   "cell_type": "markdown",
   "metadata": {},
   "source": [
    "<a style=\"color:green;\" href=\"https://praveendandu24.medium.com/a-beginners-guide-to-how-dns-works-making-sense-of-the-internet-s-phonebook-cd90e2054f85\">Know More About DNS Here</a>"
   ]
  },
  {
   "cell_type": "markdown",
   "metadata": {},
   "source": [
    "- Enter the website name\n",
    "- The system checks for the ip address in the `catche`(if found return if not go to the next step)\n",
    "- System checks for the files to see if there is a manual mapping\n",
    "- System contacts the `DNS resolver` which is procided by `ISP or Google` (it does not know ip address)\n",
    "- DNS contact the `root server` whcih only knows  `TOP LEVEL Domanins`(.net,.com etc)\n",
    "- The TLD gives you the `authoritative name` server\n",
    "- this gives the ip adress and sends to back to DNS resolver\n",
    "- DNS will send it to Computer"
   ]
  },
  {
   "cell_type": "markdown",
   "metadata": {},
   "source": [
    "### <h3 style=\"color:blue;\"><strong>Top Level Domain\n",
    "</strong> <h3>"
   ]
  },
  {
   "cell_type": "markdown",
   "metadata": {},
   "source": [
    "A Top-Level Domain (TLD) is the highest level in the `Domain Name System (DNS)` hierarchy. It is the last segment of a domain name, `appearing after the last dot (.)`"
   ]
  },
  {
   "cell_type": "markdown",
   "metadata": {},
   "source": [
    "<p><strong>Generic TLDs (gTLDs)</strong> – Common and widely used:</p>\n",
    "<ul>\n",
    "  <li><strong>.com</strong> → Commercial websites (e.g., google.com, amazon.com)</li>\n",
    "  <li><strong>.org</strong> → Organizations (e.g., wikipedia.org, redcross.org)</li>\n",
    "  <li><strong>.net</strong> → Network-related services (e.g., speedtest.net, sourceforge.net)</li>\n",
    "  <li><strong>.edu</strong> → Educational institutions (e.g., harvard.edu, stanford.edu)</li>\n",
    "  <li><strong>.gov</strong> → Government websites (e.g., usa.gov, nasa.gov)</li>\n",
    "</ul>\n",
    "\n",
    "<p><strong>Country-Code TLDs (ccTLDs)</strong> – Based on country:</p>\n",
    "<ul>\n",
    "  <li><strong>.us</strong> → United States (e.g., example.us)</li>\n",
    "  <li><strong>.uk</strong> → United Kingdom (e.g., bbc.co.uk)</li>\n",
    "  <li><strong>.in</strong> → India (e.g., gov.in)</li>\n",
    "  <li><strong>.za</strong> → South Africa (e.g., sabcsport.co.za)</li>\n",
    "</ul>\n",
    "\n",
    "<p><strong>Sponsored TLDs (sTLDs)</strong> – Restricted usage based on organizations:</p>\n",
    "<ul>\n",
    "  <li><strong>.mil</strong> → U.S. military (army.mil)</li>\n",
    "  <li><strong>.aero</strong> → Aviation industry (iata.aero)</li>\n",
    "  <li><strong>.museum</strong> → Museums (louvre.museum)</li>\n",
    "</ul>\n",
    "\n",
    "<p><strong>Example of a Full Domain Name Breakdown:</strong><br>\n",
    "For www.example.com:</p>\n",
    "<ul>\n",
    "  <li><strong>\"www\"</strong> → Subdomain</li>\n",
    "  <li><strong>\"example\"</strong> → Second-level domain (SLD)</li>\n",
    "  <li><strong>\".com\"</strong> → Top-Level Domain (TLD)</li>\n",
    "</ul>\n",
    "\n",
    "<p><strong>Why Are TLDs Important?</strong></p>\n",
    "<ul>\n",
    "  <li>They help classify websites based on purpose or location.</li>\n",
    "  <li>Some TLDs (like .gov and .edu) require verification before use.</li>\n",
    "  <li>Businesses use custom TLDs (.tech, .store, etc.) for branding.</li>\n",
    "</ul>\n",
    "\n",
    "<p>Would you like help choosing the right TLD for a website? 😊</p>\n"
   ]
  },
  {
   "cell_type": "markdown",
   "metadata": {},
   "source": [
    "### <h3 style=\"color:blue;\"><strong>IPv4 (vs) IPv6\n",
    "</strong> <h3>"
   ]
  },
  {
   "cell_type": "markdown",
   "metadata": {},
   "source": [
    "<div style=\"display: flex; justify-content: space-between;\">\n",
    "  <div style=\"text-align: center;\">\n",
    "    <h3>IPv4</h3>\n",
    "    <img src=\"images/IPv4.jpg\" width=\"400px\">\n",
    "  </div>\n",
    "  <div style=\"text-align: center;\">\n",
    "    <h3>IPv6</h3>\n",
    "    <img src=\"images/IPv6.jpg\" width=\"400px\">\n",
    "  </div>\n",
    "</div>\n"
   ]
  },
  {
   "cell_type": "markdown",
   "metadata": {},
   "source": [
    "## <h2 style=\"color:red;\"><strong>API Architecture</strong> <h2>"
   ]
  },
  {
   "cell_type": "markdown",
   "metadata": {},
   "source": [
    "API stands for Application Programming Interface\n"
   ]
  },
  {
   "cell_type": "markdown",
   "metadata": {},
   "source": [
    "<img src=\"images/api.jpg\" alt=\"Api Process\" width=\"500px\">"
   ]
  },
  {
   "cell_type": "markdown",
   "metadata": {},
   "source": [
    "## <h2 style=\"color:red;\"><strong>REST Api</strong> <h2>"
   ]
  },
  {
   "cell_type": "markdown",
   "metadata": {},
   "source": [
    "`REST (Representational State Transfer)` is an architectural style used for designing networked applications. RESTful APIs allow different software systems to communicate over the internet using standard HTTP methods. Below are the key features of REST APIs:"
   ]
  },
  {
   "cell_type": "markdown",
   "metadata": {},
   "source": [
    "<div style=\"display: flex; flex-direction: column; gap: 10px;\">\n",
    "  <div>\n",
    "    <h3>Stateless</h3>\n",
    "    <p>Each request contains all necessary information, and the server does not store session state between requests.</p>\n",
    "    <hr>\n",
    "  </div>\n",
    "  <div>\n",
    "    <h3>Client-Server Architecture</h3>\n",
    "    <p>The client and server are separate entities, allowing independent evolution of both.</p>\n",
    "    <hr>\n",
    "  </div>\n",
    "  <div>\n",
    "    <h3>Uniform Interface</h3>\n",
    "    <p>REST APIs use standardized methods (GET, POST, PUT, DELETE) to interact with resources consistently.</p>\n",
    "    <hr>\n",
    "  </div>\n",
    "  <div>\n",
    "    <h3>Resource-Based</h3>\n",
    "    <p>Every piece of information is considered a resource, identified by a unique URL for access and manipulation.</p>\n",
    "    <hr>\n",
    "  </div>\n",
    "  <div>\n",
    "    <h3>HTTP Methods</h3>\n",
    "    <p>REST APIs use HTTP methods like GET, POST, PUT, DELETE to interact with resources.</p>\n",
    "    <hr>\n",
    "  </div>\n",
    "  <div>\n",
    "    <h3>Stateless Communication</h3>\n",
    "    <p>Each API call is independent and contains all the necessary data, with no server memory of previous requests.</p>\n",
    "    <hr>\n",
    "  </div>\n",
    "  <div>\n",
    "    <h3>Cacheable</h3>\n",
    "    <p>Responses can be marked as cacheable to improve performance by reusing data in future requests.</p>\n",
    "    <hr>\n",
    "  </div>\n",
    "  <div>\n",
    "    <h3>Layered System</h3>\n",
    "    <p>Intermediate servers can be added between the client and server to handle tasks like load balancing and caching.</p>\n",
    "    <hr>\n",
    "  </div>\n",
    "  <div>\n",
    "    <h3>Code on Demand (Optional)</h3>\n",
    "    <p>Servers can send executable code to the client to extend its functionality, though this is optional.</p>\n",
    "    <hr>\n",
    "  </div>\n",
    "  <div>\n",
    "    <h3>Scalability</h3>\n",
    "    <p>REST APIs are scalable due to their stateless nature and separation of client and server.</p>\n",
    "    <hr>\n",
    "  </div>\n",
    "  <div>\n",
    "    <h3>Standardized Data Formats (Usually JSON or XML)</h3>\n",
    "    <p>REST APIs commonly exchange data in JSON format, which is lightweight and easy to read and write.</p>\n",
    "    <hr>\n",
    "  </div>\n",
    "  <div>\n",
    "    <h3>Security</h3>\n",
    "    <p>REST APIs use HTTPS and authentication mechanisms like OAuth or JWT to secure access to resources.</p>\n",
    "    <hr>\n",
    "  </div>\n",
    "</div>\n"
   ]
  },
  {
   "cell_type": "markdown",
   "metadata": {},
   "source": [
    "## <h2 style=\"color:red;\"><strong>MVC Architecture</strong> <h2>"
   ]
  },
  {
   "cell_type": "markdown",
   "metadata": {},
   "source": [
    "<img src=\"images/mvc.jpg\" width=\"600p\">"
   ]
  },
  {
   "cell_type": "markdown",
   "metadata": {},
   "source": [
    "## <h2 style=\"color:red;\"><strong>How to setup project using express generator</strong> <h2>"
   ]
  },
  {
   "cell_type": "markdown",
   "metadata": {},
   "source": [
    "<img scr=\"images/mvc.jpg\">"
   ]
  },
  {
   "cell_type": "markdown",
   "metadata": {},
   "source": [
    "npx express-generator --no-view --git"
   ]
  },
  {
   "cell_type": "markdown",
   "metadata": {},
   "source": [
    "## <h2 style=\"color:red;\"><strong>Bcrypt\n",
    "</strong> <h2>"
   ]
  },
  {
   "cell_type": "markdown",
   "metadata": {},
   "source": [
    "**Step 1: Original Password** - The user provides a plain text password. Example: `\"bkr969\"`\n",
    "\n",
    "**Step 2: Generate Salt** - A random salt (nothing but a string)is created to ensure unique hashes. Example: `\"$2b$12$zLJr7QW2Gz.BUwiJ7hG8xu\"` and is added to the hashed password\n",
    "\n",
    "**Step 3: Hash the Password** - The password is combined with the salt and hashed using bcrypt. Example:  \n",
    "`\"$2b$12$zLJr7QW2Gz.BUwiJ7hG8xuT/7OnuDML1u6TXqD4dcP5Y3XbrGrrAG\"`\n",
    "\n",
    "**Step 4: Hash Comparison** - To verify a password, bcrypt compares it with the stored hash. Example: `bcrypt.checkpw(\"bkr969\".encode(), hashed_password) → True`\n"
   ]
  },
  {
   "cell_type": "markdown",
   "metadata": {},
   "source": [
    "## <h2 style=\"color:red;\"><strong>Mongoose Middlewares\n",
    "\n",
    "</strong> <h2>"
   ]
  },
  {
   "cell_type": "markdown",
   "metadata": {},
   "source": [
    "Mongoose has 4 types of middleware: \n",
    "- document middleware \n",
    "- model middleware \n",
    "- aggregate middleware \n",
    "- query middleware."
   ]
  },
  {
   "cell_type": "markdown",
   "metadata": {},
   "source": [
    "Document middleware is supported for the following document functions. In Mongoose, a document is an instance of a Model class. In document middleware functions, this refers to the document. To `access` the model, use **`this.constructor`**.\n",
    "\n",
    "- validate\n",
    "- save\n",
    "- updateOne\n",
    "- deleteOne\n",
    "- init (note: init hooks are synchronous)"
   ]
  },
  {
   "cell_type": "markdown",
   "metadata": {},
   "source": [
    "Query middleware is supported for the following Query functions. Query middleware executes when you call exec() or then() on a Query object, or await on a Query object. In query middleware functions, this refers to the query.\n",
    "\n",
    "- count\n",
    "- countDocuments\n",
    "- deleteMany\n",
    "- deleteOne\n",
    "- estimatedDocumentCount\n",
    "- find\n",
    "- findOne\n",
    "- findOneAndDelete\n",
    "- findOneAndReplace\n",
    "- findOneAndUpdate\n",
    "- replaceOne\n",
    "- updateOne\n",
    "- updateMany\n",
    "- validate"
   ]
  },
  {
   "cell_type": "markdown",
   "metadata": {},
   "source": [
    "Aggregate middleware is for MyModel.aggregate(). Aggregate middleware executes when you call exec() on an aggregate object. In aggregate middleware, this refers to the aggregation object.\n",
    "\n",
    "- aggregate"
   ]
  },
  {
   "cell_type": "markdown",
   "metadata": {},
   "source": [
    "Model middleware is supported for the following model functions. Don't confuse model middleware and document middleware: model middleware hooks into static functions on a Model class, document middleware hooks into methods on a Model class. In model middleware functions, this refers to the model.\n",
    "\n",
    "- bulkWrite\n",
    "- createCollection\n",
    "- insertMany"
   ]
  },
  {
   "cell_type": "markdown",
   "metadata": {},
   "source": []
  }
 ],
 "metadata": {
  "language_info": {
   "name": "python"
  }
 },
 "nbformat": 4,
 "nbformat_minor": 2
}
